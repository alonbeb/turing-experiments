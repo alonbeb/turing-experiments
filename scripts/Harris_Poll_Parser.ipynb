{
 "cells": [
  {
   "cell_type": "code",
   "execution_count": null,
   "id": "initial_id",
   "metadata": {
    "collapsed": true
   },
   "outputs": [],
   "source": [
    "from PyPDF2 import PdfReader\n",
    "import re\n",
    "from first import first\n",
    "import pandas as pd"
   ]
  },
  {
   "cell_type": "code",
   "outputs": [],
   "source": [
    "filepath = \"/content/HHP_Dec23_Topline\""
   ],
   "metadata": {
    "collapsed": false
   },
   "id": "283cde638284c9cc"
  },
  {
   "cell_type": "code",
   "outputs": [],
   "source": [
    "def page_to_question(page):\n",
    "  lines = [line.strip() for line in page.extract_text().splitlines() if not line.isspace()]\n",
    "  total_index = lines.index(\"Total\")\n",
    "\n",
    "  (symbol, text) = lines[6].split(maxsplit=1)\n",
    "  base = lines[total_index - 1].split()[1]\n",
    "  unweighted = lines[total_index + 1].split()[-1]\n",
    "  weighted = lines[total_index + 2].split()[-1]\n",
    "\n",
    "  option_lines = [re.sub(\"\\s+\\d+%\", \"\", line) for line in lines[total_index + 3:] if \" \" in line]\n",
    "  options = []\n",
    "  for line in option_lines:\n",
    "    if re.search('\\s+[\\d\\-]', line):\n",
    "      options.append(re.split(\"\\s+(?=[\\d\\-])\", line, maxsplit=1))\n",
    "    else:\n",
    "      options[-1][0] += \" \" + line\n",
    "  options = dict((key, value) for key, value in options)\n",
    "\n",
    "  return {\n",
    "      \"Symbol\": symbol,\n",
    "      \"Text\": text,\n",
    "      \"Base\": base,\n",
    "      \"Unweighted\": unweighted,\n",
    "      \"Weighted\": weighted,\n",
    "      \"Options\": options\n",
    "  }"
   ],
   "metadata": {
    "collapsed": false
   },
   "id": "1b317cc38b5555b"
  },
  {
   "cell_type": "code",
   "outputs": [],
   "source": [
    "reader = PdfReader(filepath + \".pdf\")\n",
    "questions = [page_to_question(page) for page in reader.pages[2:]]\n",
    "df = pd.DataFrame.from_records(questions, columns=[\"Symbol\", \"Text\", \"Base\", \"Unweighted\", \"Weighted\", \"Options\"])\n",
    "df.to_csv(filepath + \".csv\", index=False)"
   ],
   "metadata": {
    "collapsed": false
   },
   "id": "ecc81c93e8ec3f9"
  }
 ],
 "metadata": {
  "kernelspec": {
   "display_name": "Python 3",
   "language": "python",
   "name": "python3"
  },
  "language_info": {
   "codemirror_mode": {
    "name": "ipython",
    "version": 2
   },
   "file_extension": ".py",
   "mimetype": "text/x-python",
   "name": "python",
   "nbconvert_exporter": "python",
   "pygments_lexer": "ipython2",
   "version": "2.7.6"
  }
 },
 "nbformat": 4,
 "nbformat_minor": 5
}
