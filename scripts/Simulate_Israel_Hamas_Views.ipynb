{
 "cells": [
  {
   "attachments": {},
   "cell_type": "markdown",
   "id": "434dc5fb",
   "metadata": {},
   "source": [
    "## 1. Set-Up"
   ]
  },
  {
   "cell_type": "code",
   "execution_count": 1,
   "id": "4fad3ee3",
   "metadata": {
    "ExecuteTime": {
     "end_time": "2024-01-06T22:19:44.012643100Z",
     "start_time": "2024-01-06T22:19:43.914559600Z"
    }
   },
   "outputs": [],
   "source": [
    "%load_ext autoreload\n",
    "%autoreload 2"
   ]
  },
  {
   "attachments": {},
   "cell_type": "markdown",
   "id": "ca716283",
   "metadata": {},
   "source": [
    "### 1.1. Imports"
   ]
  },
  {
   "cell_type": "code",
   "execution_count": 2,
   "id": "2640357c",
   "metadata": {
    "ExecuteTime": {
     "end_time": "2024-01-06T22:19:44.738124200Z",
     "start_time": "2024-01-06T22:19:43.975375600Z"
    }
   },
   "outputs": [],
   "source": [
    "import itertools\n",
    "import math\n",
    "import os\n",
    "import pathlib\n",
    "\n",
    "import openai\n",
    "import pandas as pd\n",
    "import tiktoken\n",
    "from tenacity import (\n",
    "    retry,\n",
    "    stop_after_attempt,\n",
    "    wait_random_exponential,\n",
    ")"
   ]
  },
  {
   "cell_type": "markdown",
   "source": [
    "### 1.2. Language Model Settings"
   ],
   "metadata": {},
   "id": "b408e569"
  },
  {
   "cell_type": "code",
   "outputs": [],
   "source": [
    "openai.api_key = os.environ[\"OPENAI_API_KEY\"]"
   ],
   "metadata": {
    "collapsed": false,
    "ExecuteTime": {
     "end_time": "2024-01-06T22:19:44.809195600Z",
     "start_time": "2024-01-06T22:19:44.740444200Z"
    }
   },
   "id": "fcb23117aa19211e",
   "execution_count": 3
  },
  {
   "cell_type": "code",
   "outputs": [],
   "source": [
    "@retry(wait=wait_random_exponential(min=1, max=60), stop=stop_after_attempt(6))\n",
    "def call_openai_api(prompt: str) -> dict:\n",
    "    return openai.Completion.create(\n",
    "        prompt=prompt,\n",
    "        engine=\"text-davinci-003\",\n",
    "        max_tokens=0,\n",
    "        temperature=1,\n",
    "        n=1,\n",
    "        logprobs=1,\n",
    "        echo=True,\n",
    "        presence_penalty=0,\n",
    "        frequency_penalty=0,\n",
    "        stop=None\n",
    "    )"
   ],
   "metadata": {
    "collapsed": false,
    "ExecuteTime": {
     "end_time": "2024-01-06T22:19:44.880972100Z",
     "start_time": "2024-01-06T22:19:44.811349800Z"
    }
   },
   "id": "5288626134171225",
   "execution_count": 4
  },
  {
   "cell_type": "code",
   "outputs": [],
   "source": [
    "encoding = tiktoken.get_encoding(\"cl100k_base\")"
   ],
   "metadata": {
    "collapsed": false,
    "ExecuteTime": {
     "end_time": "2024-01-06T22:19:45.152121800Z",
     "start_time": "2024-01-06T22:19:44.883989700Z"
    }
   },
   "id": "19f9890ed2375229",
   "execution_count": 5
  },
  {
   "cell_type": "code",
   "outputs": [],
   "source": [
    "def num_tokens(string: str) -> int:\n",
    "    return len(encoding.encode(string))"
   ],
   "metadata": {
    "collapsed": false,
    "ExecuteTime": {
     "end_time": "2024-01-06T22:19:45.220805500Z",
     "start_time": "2024-01-06T22:19:45.154197500Z"
    }
   },
   "id": "9d393ffd79feadd0",
   "execution_count": 6
  },
  {
   "cell_type": "markdown",
   "source": [
    "### 1.3. Questions Settings"
   ],
   "metadata": {},
   "id": "24b4dc68"
  },
  {
   "cell_type": "code",
   "outputs": [],
   "source": [
    "def get_question(content: str, options: list[str]) -> str:\n",
    "    return content + \" (Options: '\" + \"', '\".join(options) + \"')\""
   ],
   "metadata": {
    "collapsed": false,
    "ExecuteTime": {
     "end_time": "2024-01-06T22:19:45.299335800Z",
     "start_time": "2024-01-06T22:19:45.224195Z"
    }
   },
   "id": "9f5d2a8a4a68adc0",
   "execution_count": 7
  },
  {
   "cell_type": "code",
   "outputs": [],
   "source": [
    "profile_questions = [\n",
    "    {\n",
    "        \"id\": \"AGE\",\n",
    "        \"content\": \"What is your age?\",\n",
    "        \"options\": [\n",
    "            \"18-22\",\n",
    "            \"23-29\",\n",
    "            \"30-49\",\n",
    "            \"50-64\",\n",
    "            \"65+\"\n",
    "        ]\n",
    "    },\n",
    "    {\n",
    "        \"id\": \"SEX\",\n",
    "        \"content\": \"What is your Sex?\",\n",
    "        \"options\": [\n",
    "            \"Male\",\n",
    "            \"Female\",\n",
    "            \"Other\"\n",
    "        ]\n",
    "    },\n",
    "    {\n",
    "        \"id\": \"EDUCATION\",\n",
    "        \"content\": \"What is your Education?\",\n",
    "        \"options\": [\n",
    "            \"Less than high school degree\",\n",
    "            \"High school degree to less than 4-year college degree\",\n",
    "            \"4-year college degree or more\"\n",
    "        ]\n",
    "    },\n",
    "    {\n",
    "        \"id\": \"RACE/ETHNICITY\",\n",
    "        \"content\": \"What is your Race/Ethnicity?\",\n",
    "        \"options\": [\n",
    "            \"White\",\n",
    "            \"Black/African American\",\n",
    "            \"Hispanic\",\n",
    "            \"Asian\",\n",
    "            \"Other\"\n",
    "        ]\n",
    "    },\n",
    "    {\n",
    "        \"id\": \"POLITICAL PARTY\",\n",
    "        \"content\": \"What is your Political Party?\",\n",
    "        \"options\": [\n",
    "            \"Democrat\",\n",
    "            \"Republican\",\n",
    "            \"Independent\",\n",
    "            \"Other\"\n",
    "        ]\n",
    "    },\n",
    "    {\n",
    "        \"id\": \"POLITICAL IDEOLOGY\",\n",
    "        \"content\": \"What is your Political Ideology?\",\n",
    "        \"options\": [\n",
    "            \"Liberal\",\n",
    "            \"Moderate\",\n",
    "            \"Conservative\"\n",
    "        ]\n",
    "    }\n",
    "]\n",
    "profile_questions_df = pd.DataFrame(profile_questions)\n",
    "profile_questions_df[\"question\"] = profile_questions_df.apply(lambda q: get_question(q.content, q.options), axis=1)\n",
    "profile_questions_df.set_index(\"id\", inplace=True)"
   ],
   "metadata": {
    "collapsed": false,
    "ExecuteTime": {
     "end_time": "2024-01-06T22:19:45.373957400Z",
     "start_time": "2024-01-06T22:19:45.301513100Z"
    }
   },
   "id": "a8f4feeedb8a116b",
   "execution_count": 8
  },
  {
   "cell_type": "code",
   "outputs": [
    {
     "data": {
      "text/plain": "                                       content  \\\nid                                               \nAGE                          What is your age?   \nSEX                          What is your Sex?   \nEDUCATION              What is your Education?   \nRACE/ETHNICITY    What is your Race/Ethnicity?   \nPOLITICAL PARTY  What is your Political Party?   \n\n                                                           options  \\\nid                                                                   \nAGE                              [18-22, 23-29, 30-49, 50-64, 65+]   \nSEX                                          [Male, Female, Other]   \nEDUCATION        [Less than high school degree, High school deg...   \nRACE/ETHNICITY   [White, Black/African American, Hispanic, Asia...   \nPOLITICAL PARTY         [Democrat, Republican, Independent, Other]   \n\n                                                          question  \nid                                                                  \nAGE              What is your age? (Options: '18-22', '23-29', ...  \nSEX              What is your Sex? (Options: 'Male', 'Female', ...  \nEDUCATION        What is your Education? (Options: 'Less than h...  \nRACE/ETHNICITY   What is your Race/Ethnicity? (Options: 'White'...  \nPOLITICAL PARTY  What is your Political Party? (Options: 'Democ...  ",
      "text/html": "<div>\n<style scoped>\n    .dataframe tbody tr th:only-of-type {\n        vertical-align: middle;\n    }\n\n    .dataframe tbody tr th {\n        vertical-align: top;\n    }\n\n    .dataframe thead th {\n        text-align: right;\n    }\n</style>\n<table border=\"1\" class=\"dataframe\">\n  <thead>\n    <tr style=\"text-align: right;\">\n      <th></th>\n      <th>content</th>\n      <th>options</th>\n      <th>question</th>\n    </tr>\n    <tr>\n      <th>id</th>\n      <th></th>\n      <th></th>\n      <th></th>\n    </tr>\n  </thead>\n  <tbody>\n    <tr>\n      <th>AGE</th>\n      <td>What is your age?</td>\n      <td>[18-22, 23-29, 30-49, 50-64, 65+]</td>\n      <td>What is your age? (Options: '18-22', '23-29', ...</td>\n    </tr>\n    <tr>\n      <th>SEX</th>\n      <td>What is your Sex?</td>\n      <td>[Male, Female, Other]</td>\n      <td>What is your Sex? (Options: 'Male', 'Female', ...</td>\n    </tr>\n    <tr>\n      <th>EDUCATION</th>\n      <td>What is your Education?</td>\n      <td>[Less than high school degree, High school deg...</td>\n      <td>What is your Education? (Options: 'Less than h...</td>\n    </tr>\n    <tr>\n      <th>RACE/ETHNICITY</th>\n      <td>What is your Race/Ethnicity?</td>\n      <td>[White, Black/African American, Hispanic, Asia...</td>\n      <td>What is your Race/Ethnicity? (Options: 'White'...</td>\n    </tr>\n    <tr>\n      <th>POLITICAL PARTY</th>\n      <td>What is your Political Party?</td>\n      <td>[Democrat, Republican, Independent, Other]</td>\n      <td>What is your Political Party? (Options: 'Democ...</td>\n    </tr>\n  </tbody>\n</table>\n</div>"
     },
     "execution_count": 9,
     "metadata": {},
     "output_type": "execute_result"
    }
   ],
   "source": [
    "profile_questions_df.head()"
   ],
   "metadata": {
    "collapsed": false,
    "ExecuteTime": {
     "end_time": "2024-01-06T22:19:45.485481900Z",
     "start_time": "2024-01-06T22:19:45.376122200Z"
    }
   },
   "id": "f2340c894abcdb0e",
   "execution_count": 9
  },
  {
   "cell_type": "code",
   "outputs": [],
   "source": [
    "survey_questions = [\n",
    "    {\n",
    "        \"id\": \"ISGZ_BDN\",\n",
    "        \"content\":\n",
    "            \"Do you approve or disapprove of the Biden administration’s response to the Israel-Hamas war?\",\n",
    "        \"options\": [\n",
    "            \"Strongly approve\",\n",
    "            \"Somewhat approve\",\n",
    "            \"Strongly disapprove\",\n",
    "            \"Somewhat disapprove\",\n",
    "            \"Not sure\"\n",
    "        ]\n",
    "    },\n",
    "    {\n",
    "        \"id\": \"UKRFOL\",\n",
    "        \"content\":\n",
    "            \"How closely have you been following news about Russia’s invasion of Ukraine?\",\n",
    "        \"options\": [\n",
    "            \"Extremely closely\",\n",
    "            \"Very closely\",\n",
    "            \"Somewhat closely\",\n",
    "            \"Not too closely\",\n",
    "            \"Not at all closely\"\n",
    "        ]\n",
    "    },\n",
    "    {\n",
    "        \"id\": \"JB_RUSUKR_APP\",\n",
    "        \"content\":\n",
    "            \"Do you approve or disapprove of the Biden administration’s response to Russia’s invasion of Ukraine?\",\n",
    "        \"options\": [\n",
    "            \"Strongly approve\",\n",
    "            \"Somewhat approve\",\n",
    "            \"Strongly disapprove\",\n",
    "            \"Somewhat disapprove\",\n",
    "            \"Not sure\"\n",
    "        ]\n",
    "    },\n",
    "    {\n",
    "        \"id\": \"UKR_SPRT\",\n",
    "        \"content\":\n",
    "            \"When it comes to Russia’s invasion of Ukraine, do you think the U.S. is providing …\",\n",
    "        \"options\": [\n",
    "            \"Too much support to Ukraine\",\n",
    "            \"Not enough support to Ukraine\",\n",
    "            \"About the right amount of support to Ukraine\",\n",
    "            \"Not sure\"\n",
    "        ]\n",
    "    },\n",
    "    {\n",
    "        \"id\": \"RU_UKN_THRT2\",\n",
    "        \"content\":\n",
    "            \"How much of a threat to U.S. interests is Russia’s invasion of Ukraine?\",\n",
    "        \"options\": [\n",
    "            \"A major threat\",\n",
    "            \"A minor threat\",\n",
    "            \"Not a threat\",\n",
    "            \"Not sure\"\n",
    "        ]\n",
    "    },\n",
    "    {\n",
    "        \"id\": \"ISGZ_FOL\",\n",
    "        \"content\":\n",
    "            \"How closely have you been following news about the Israel-Hamas war?\",\n",
    "        \"options\": [\n",
    "            \"Extremely closely\",\n",
    "            \"Very closely\",\n",
    "            \"Somewhat closely\",\n",
    "            \"Not too closely\",\n",
    "            \"Not at all closely\"\n",
    "        ]\n",
    "    },\n",
    "    {\n",
    "        \"id\": \"ISGZ_RESPNSBL_ISRGOV\",\n",
    "        \"content\":\n",
    "            \"How much responsibility does the Israeli government have for Israel and Hamas currently being at war?\",\n",
    "        \"options\": [\n",
    "            \"A lot\",\n",
    "            \"A little\",\n",
    "            \"None\",\n",
    "            \"Not sure\"\n",
    "        ]\n",
    "    },\n",
    "    {\n",
    "        \"id\": \"ISGZ_RESPNSBL_HMS\",\n",
    "        \"content\":\n",
    "            \"How much responsibility does the militant Palestinian group Hamas have for Israel and Hamas currently being at war?\",\n",
    "        \"options\": [\n",
    "            \"A lot\",\n",
    "            \"A little\",\n",
    "            \"None\",\n",
    "            \"Not sure\"\n",
    "        ]\n",
    "    },\n",
    "    {\n",
    "        \"id\": \"ISGZ_RESPNSBL_ISRPPL\",\n",
    "        \"content\":\n",
    "            \"How much responsibility do the Israeli people have for Israel and Hamas currently being at war?\",\n",
    "        \"options\": [\n",
    "            \"A lot\",\n",
    "            \"A little\",\n",
    "            \"None\",\n",
    "            \"Not sure\"\n",
    "        ]\n",
    "    },\n",
    "    {\n",
    "        \"id\": \"ISGZ_RESPNSBL_PLS\",\n",
    "        \"content\":\n",
    "            \"How much responsibility do the Palestinian people have for Israel and Hamas currently being at war?\",\n",
    "        \"options\": [\n",
    "            \"A lot\",\n",
    "            \"A little\",\n",
    "            \"None\",\n",
    "            \"Not sure\"\n",
    "        ]\n",
    "    },\n",
    "    {\n",
    "        \"id\": \"ISGZ_RESPNS\",\n",
    "        \"content\":\n",
    "            \"Thinking about Israel’s current military operation against Hamas, is Israel…\",\n",
    "        \"options\": [\n",
    "            \"Going too far\",\n",
    "            \"Not going far enough\",\n",
    "            \"Taking about the right approach\",\n",
    "            \"Not sure\"\n",
    "        ]\n",
    "    },\n",
    "    {\n",
    "        \"id\": \"BIDEN_FAVORISRPAL\",\n",
    "        \"content\":\n",
    "            \"Do you think Joe Biden is…\",\n",
    "        \"options\": [\n",
    "            \"Favoring the Israelis too much\",\n",
    "            \"Favoring the Palestinians too much\",\n",
    "            \"Striking about the right balance\",\n",
    "            \"Not sure\"\n",
    "        ]\n",
    "    },\n",
    "    {\n",
    "        \"id\": \"ISGZ_CONC_BIG\",\n",
    "        \"content\":\n",
    "            \"Thinking about the war between Israel and Hamas, how concerned are you about the possibility of the war expanding to other countries in the region?\",\n",
    "        \"options\": [\n",
    "            \"Extremely concerned\",\n",
    "            \"Very concerned\",\n",
    "            \"Somewhat concerned\",\n",
    "            \"Not too concerned\",\n",
    "            \"Not at all concerned\"\n",
    "        ]\n",
    "    },\n",
    "    {\n",
    "        \"id\": \"ISGZ_CONC_TERR\",\n",
    "        \"content\":\n",
    "            \"Thinking about the war between Israel and Hamas, how concerned are you about the possibility of the war leading to a terrorist attack in the United States?\",\n",
    "        \"options\": [\n",
    "            \"Extremely concerned\",\n",
    "            \"Very concerned\",\n",
    "            \"Somewhat concerned\",\n",
    "            \"Not too concerned\",\n",
    "            \"Not at all concerned\"\n",
    "        ]\n",
    "    },\n",
    "    {\n",
    "        \"id\": \"ISGZ_CONC_RSLV\",\n",
    "        \"content\":\n",
    "            \"Thinking about the war between Israel and Hamas, how concerned are you about the possibility of the war going on for a very long time?\",\n",
    "        \"options\": [\n",
    "            \"Extremely concerned\",\n",
    "            \"Very concerned\",\n",
    "            \"Somewhat concerned\",\n",
    "            \"Not too concerned\",\n",
    "            \"Not at all concerned\"\n",
    "        ]\n",
    "    },\n",
    "    {\n",
    "        \"id\": \"ISGZ_CONC_VLC_JW\",\n",
    "        \"content\":\n",
    "            \"Thinking about the war between Israel and Hamas, how concerned are you about the possibility of increasing violence against Jewish people in the U.S.?\",\n",
    "        \"options\": [\n",
    "            \"Extremely concerned\",\n",
    "            \"Very concerned\",\n",
    "            \"Somewhat concerned\",\n",
    "            \"Not too concerned\",\n",
    "            \"Not at all concerned\"\n",
    "        ]\n",
    "    },\n",
    "    {\n",
    "        \"id\": \"ISGZ_CONC_VLC_MSLM\",\n",
    "        \"content\":\n",
    "            \"Thinking about the war between Israel and Hamas, how concerned are you about the possibility of increasing violence against Muslim people in the U.S.?\",\n",
    "        \"options\": [\n",
    "            \"Extremely concerned\",\n",
    "            \"Very concerned\",\n",
    "            \"Somewhat concerned\",\n",
    "            \"Not too concerned\",\n",
    "            \"Not at all concerned\"\n",
    "        ]\n",
    "    },\n",
    "    {\n",
    "        \"id\": \"COEX\",\n",
    "        \"content\":\n",
    "            \"Do you think a way can be found for Israel and an independent Palestinian state to coexist peacefully with each other?\",\n",
    "        \"options\": [\n",
    "            \"Yes, can coexist peacefully\",\n",
    "            \"No, can not coexist peacefully\"\n",
    "        ]\n",
    "    },\n",
    "]\n",
    "survey_questions_df = pd.DataFrame(survey_questions)\n",
    "survey_questions_df[\"question\"] = survey_questions_df.apply(lambda q: get_question(q.content, q.options), axis=1)\n",
    "survey_questions_df.set_index(\"id\", inplace=True)"
   ],
   "metadata": {
    "collapsed": false,
    "ExecuteTime": {
     "end_time": "2024-01-06T22:19:45.625641500Z",
     "start_time": "2024-01-06T22:19:45.483387100Z"
    }
   },
   "id": "c3f77b0de1850e86",
   "execution_count": 10
  },
  {
   "cell_type": "code",
   "outputs": [
    {
     "data": {
      "text/plain": "                                                         content  \\\nid                                                                 \nISGZ_BDN       Do you approve or disapprove of the Biden admi...   \nUKRFOL         How closely have you been following news about...   \nJB_RUSUKR_APP  Do you approve or disapprove of the Biden admi...   \nUKR_SPRT       When it comes to Russia’s invasion of Ukraine,...   \nRU_UKN_THRT2   How much of a threat to U.S. interests is Russ...   \n\n                                                         options  \\\nid                                                                 \nISGZ_BDN       [Strongly approve, Somewhat approve, Strongly ...   \nUKRFOL         [Extremely closely, Very closely, Somewhat clo...   \nJB_RUSUKR_APP  [Strongly approve, Somewhat approve, Strongly ...   \nUKR_SPRT       [Too much support to Ukraine, Not enough suppo...   \nRU_UKN_THRT2   [A major threat, A minor threat, Not a threat,...   \n\n                                                        question  \nid                                                                \nISGZ_BDN       Do you approve or disapprove of the Biden admi...  \nUKRFOL         How closely have you been following news about...  \nJB_RUSUKR_APP  Do you approve or disapprove of the Biden admi...  \nUKR_SPRT       When it comes to Russia’s invasion of Ukraine,...  \nRU_UKN_THRT2   How much of a threat to U.S. interests is Russ...  ",
      "text/html": "<div>\n<style scoped>\n    .dataframe tbody tr th:only-of-type {\n        vertical-align: middle;\n    }\n\n    .dataframe tbody tr th {\n        vertical-align: top;\n    }\n\n    .dataframe thead th {\n        text-align: right;\n    }\n</style>\n<table border=\"1\" class=\"dataframe\">\n  <thead>\n    <tr style=\"text-align: right;\">\n      <th></th>\n      <th>content</th>\n      <th>options</th>\n      <th>question</th>\n    </tr>\n    <tr>\n      <th>id</th>\n      <th></th>\n      <th></th>\n      <th></th>\n    </tr>\n  </thead>\n  <tbody>\n    <tr>\n      <th>ISGZ_BDN</th>\n      <td>Do you approve or disapprove of the Biden admi...</td>\n      <td>[Strongly approve, Somewhat approve, Strongly ...</td>\n      <td>Do you approve or disapprove of the Biden admi...</td>\n    </tr>\n    <tr>\n      <th>UKRFOL</th>\n      <td>How closely have you been following news about...</td>\n      <td>[Extremely closely, Very closely, Somewhat clo...</td>\n      <td>How closely have you been following news about...</td>\n    </tr>\n    <tr>\n      <th>JB_RUSUKR_APP</th>\n      <td>Do you approve or disapprove of the Biden admi...</td>\n      <td>[Strongly approve, Somewhat approve, Strongly ...</td>\n      <td>Do you approve or disapprove of the Biden admi...</td>\n    </tr>\n    <tr>\n      <th>UKR_SPRT</th>\n      <td>When it comes to Russia’s invasion of Ukraine,...</td>\n      <td>[Too much support to Ukraine, Not enough suppo...</td>\n      <td>When it comes to Russia’s invasion of Ukraine,...</td>\n    </tr>\n    <tr>\n      <th>RU_UKN_THRT2</th>\n      <td>How much of a threat to U.S. interests is Russ...</td>\n      <td>[A major threat, A minor threat, Not a threat,...</td>\n      <td>How much of a threat to U.S. interests is Russ...</td>\n    </tr>\n  </tbody>\n</table>\n</div>"
     },
     "execution_count": 11,
     "metadata": {},
     "output_type": "execute_result"
    }
   ],
   "source": [
    "survey_questions_df.head()"
   ],
   "metadata": {
    "collapsed": false,
    "ExecuteTime": {
     "end_time": "2024-01-06T22:19:45.640354300Z",
     "start_time": "2024-01-06T22:19:45.558943Z"
    }
   },
   "id": "bcee41b0932aca7f",
   "execution_count": 11
  },
  {
   "cell_type": "markdown",
   "source": [
    "## 2. Fill Participants"
   ],
   "metadata": {},
   "id": "7d698f52"
  },
  {
   "cell_type": "code",
   "execution_count": 12,
   "id": "5e2f6913",
   "metadata": {
    "ExecuteTime": {
     "end_time": "2024-01-06T22:19:45.730909600Z",
     "start_time": "2024-01-06T22:19:45.627952100Z"
    }
   },
   "outputs": [],
   "source": [
    "profile_keys = profile_questions_df.index\n",
    "profile_options = profile_questions_df[\"options\"]\n",
    "profiles = [\n",
    "    dict(zip(profile_keys, profile_values))\n",
    "    for profile_values in itertools.product(*profile_options)\n",
    "]\n",
    "profiles_df = pd.DataFrame(profiles)"
   ]
  },
  {
   "cell_type": "code",
   "outputs": [
    {
     "data": {
      "text/plain": "     AGE   SEX                     EDUCATION RACE/ETHNICITY POLITICAL PARTY  \\\n0  18-22  Male  Less than high school degree          White        Democrat   \n1  18-22  Male  Less than high school degree          White        Democrat   \n2  18-22  Male  Less than high school degree          White        Democrat   \n3  18-22  Male  Less than high school degree          White      Republican   \n4  18-22  Male  Less than high school degree          White      Republican   \n\n  POLITICAL IDEOLOGY  \n0            Liberal  \n1           Moderate  \n2       Conservative  \n3            Liberal  \n4           Moderate  ",
      "text/html": "<div>\n<style scoped>\n    .dataframe tbody tr th:only-of-type {\n        vertical-align: middle;\n    }\n\n    .dataframe tbody tr th {\n        vertical-align: top;\n    }\n\n    .dataframe thead th {\n        text-align: right;\n    }\n</style>\n<table border=\"1\" class=\"dataframe\">\n  <thead>\n    <tr style=\"text-align: right;\">\n      <th></th>\n      <th>AGE</th>\n      <th>SEX</th>\n      <th>EDUCATION</th>\n      <th>RACE/ETHNICITY</th>\n      <th>POLITICAL PARTY</th>\n      <th>POLITICAL IDEOLOGY</th>\n    </tr>\n  </thead>\n  <tbody>\n    <tr>\n      <th>0</th>\n      <td>18-22</td>\n      <td>Male</td>\n      <td>Less than high school degree</td>\n      <td>White</td>\n      <td>Democrat</td>\n      <td>Liberal</td>\n    </tr>\n    <tr>\n      <th>1</th>\n      <td>18-22</td>\n      <td>Male</td>\n      <td>Less than high school degree</td>\n      <td>White</td>\n      <td>Democrat</td>\n      <td>Moderate</td>\n    </tr>\n    <tr>\n      <th>2</th>\n      <td>18-22</td>\n      <td>Male</td>\n      <td>Less than high school degree</td>\n      <td>White</td>\n      <td>Democrat</td>\n      <td>Conservative</td>\n    </tr>\n    <tr>\n      <th>3</th>\n      <td>18-22</td>\n      <td>Male</td>\n      <td>Less than high school degree</td>\n      <td>White</td>\n      <td>Republican</td>\n      <td>Liberal</td>\n    </tr>\n    <tr>\n      <th>4</th>\n      <td>18-22</td>\n      <td>Male</td>\n      <td>Less than high school degree</td>\n      <td>White</td>\n      <td>Republican</td>\n      <td>Moderate</td>\n    </tr>\n  </tbody>\n</table>\n</div>"
     },
     "execution_count": 13,
     "metadata": {},
     "output_type": "execute_result"
    }
   ],
   "source": [
    "profiles_df.head()"
   ],
   "metadata": {
    "collapsed": false,
    "ExecuteTime": {
     "end_time": "2024-01-06T22:19:45.827836Z",
     "start_time": "2024-01-06T22:19:45.702009100Z"
    }
   },
   "id": "286a62b0addc04da",
   "execution_count": 13
  },
  {
   "attachments": {},
   "cell_type": "markdown",
   "id": "2946a946",
   "metadata": {},
   "source": [
    "## 3. Run Experiment"
   ]
  },
  {
   "cell_type": "code",
   "outputs": [
    {
     "data": {
      "text/plain": "[\"Question: What is your age? (Options: '18-22', '23-29', '30-49', '50-64', '65+')\\nAnswer: 18-22\",\n \"Question: What is your Sex? (Options: 'Male', 'Female', 'Other')\\nAnswer: Male\",\n \"Question: What is your Education? (Options: 'Less than high school degree', 'High school degree to less than 4-year college degree', '4-year college degree or more')\\nAnswer: Less than high school degree\",\n \"Question: What is your Race/Ethnicity? (Options: 'White', 'Black/African American', 'Hispanic', 'Asian', 'Other')\\nAnswer: White\",\n \"Question: What is your Political Party? (Options: 'Democrat', 'Republican', 'Independent', 'Other')\\nAnswer: Democrat\",\n \"Question: What is your Political Ideology? (Options: 'Liberal', 'Moderate', 'Conservative')\\nAnswer: Liberal\"]"
     },
     "execution_count": 14,
     "metadata": {},
     "output_type": "execute_result"
    }
   ],
   "source": [
    "[\n",
    "    f\"Question: {profile_questions_df[\"question\"][profile_question_id]}\\nAnswer: {profile_question_answer}\"\n",
    "    for profile_question_id, profile_question_answer in profiles_df.iloc[0].items()\n",
    "]"
   ],
   "metadata": {
    "collapsed": false,
    "ExecuteTime": {
     "end_time": "2024-01-06T22:19:45.874567900Z",
     "start_time": "2024-01-06T22:19:45.773969700Z"
    }
   },
   "id": "9d60ccc37a5e5ca3",
   "execution_count": 14
  },
  {
   "cell_type": "code",
   "outputs": [],
   "source": [
    "def get_prompt(profile_row: pd.Series, survey_question: str, survey_question_answer: str) -> str:\n",
    "    prompt = [\n",
    "        f\"Question: {profile_questions_df[\"question\"][profile_question_id]}\\nAnswer: {profile_question_answer}\"\n",
    "        for profile_question_id, profile_question_answer in profile_row.items()\n",
    "    ]\n",
    "    prompt.append(f\"Question: {survey_question}\\nAnswer: {survey_question_answer}\")\n",
    "    return \"\\n\".join(prompt)"
   ],
   "metadata": {
    "collapsed": false,
    "ExecuteTime": {
     "end_time": "2024-01-06T22:19:45.939950400Z",
     "start_time": "2024-01-06T22:19:45.840914600Z"
    }
   },
   "id": "8522e864fbf638ef",
   "execution_count": 15
  },
  {
   "cell_type": "code",
   "outputs": [],
   "source": [
    "def get_survey_question_results(profile_row: pd.Series, survey_question_row: pd.Series) -> dict[str, float]:\n",
    "    survey_question_results = {}\n",
    "    survey_question_results_sum = 0\n",
    "    for survey_question_answer in survey_question_row[\"options\"]:\n",
    "        prompt = get_prompt(profile_row, survey_question_row[\"question\"], survey_question_answer)\n",
    "        response = call_openai_api(prompt)\n",
    "        choice = response[\"choices\"][0]\n",
    "        token_logprobs = choice[\"logprobs\"][\"token_logprobs\"]\n",
    "        completion_num_tokens = num_tokens(survey_question_answer)\n",
    "        survey_question_answer_prob = math.exp(sum(token_logprobs[-completion_num_tokens:]))\n",
    "        survey_question_results[survey_question_answer] = {\"unnormalized\": survey_question_answer_prob}\n",
    "        survey_question_results_sum += survey_question_answer_prob\n",
    "        print(survey_question_answer, survey_question_answer_prob)\n",
    "    for survey_question_result in survey_question_results.values():\n",
    "        survey_question_result[\"normalized\"] = survey_question_result[\"unnormalized\"] / survey_question_results_sum\n",
    "    return survey_question_results\n"
   ],
   "metadata": {
    "collapsed": false,
    "ExecuteTime": {
     "end_time": "2024-01-06T22:19:46.023580Z",
     "start_time": "2024-01-06T22:19:45.911262500Z"
    }
   },
   "id": "b2531a30adf88751",
   "execution_count": 16
  },
  {
   "cell_type": "code",
   "outputs": [],
   "source": [
    "survey_questions_df = survey_questions_df[:3]\n",
    "profiles_df = profiles_df[:5]"
   ],
   "metadata": {
    "collapsed": false,
    "ExecuteTime": {
     "end_time": "2024-01-06T22:19:46.085851700Z",
     "start_time": "2024-01-06T22:19:45.988405200Z"
    }
   },
   "id": "6e7d4101d90bc02e",
   "execution_count": 17
  },
  {
   "cell_type": "code",
   "outputs": [],
   "source": [
    "if not os.path.exists(\"../data\"):\n",
    "    os.mkdir(\"../data\")"
   ],
   "metadata": {
    "collapsed": false,
    "ExecuteTime": {
     "end_time": "2024-01-06T22:19:46.133419700Z",
     "start_time": "2024-01-06T22:19:46.059180200Z"
    }
   },
   "id": "98c578bf47ba017",
   "execution_count": 18
  },
  {
   "cell_type": "code",
   "outputs": [
    {
     "name": "stdout",
     "output_type": "stream",
     "text": [
      "Strongly approve 0.1797001002510592\n",
      "Somewhat approve 0.0036995725960380214\n",
      "Strongly disapprove 9.919720571371969e-05\n",
      "Somewhat disapprove 3.0558941193963557e-06\n",
      "Not sure 0.825503697275803\n",
      "Strongly approve 0.0002870685434657309\n",
      "Somewhat approve 0.00010724151251968152\n",
      "Strongly disapprove 1.8672052100609709e-06\n",
      "Somewhat disapprove 3.222250833994998e-07\n",
      "Not sure 0.9979615040308656\n",
      "Strongly approve 0.0022481947907840496\n",
      "Somewhat approve 0.0015563404737403525\n",
      "Strongly disapprove 0.01568789851432826\n",
      "Somewhat disapprove 0.0003428881961045635\n",
      "Not sure 0.9780519375285234\n",
      "Strongly approve 0.07384995025407322\n",
      "Somewhat approve 0.004635947068209513\n",
      "Strongly disapprove 0.0012304954647083804\n",
      "Somewhat disapprove 2.8494927494374115e-05\n",
      "Not sure 0.9191072259173059\n",
      "Strongly approve 0.00020196081114587817\n",
      "Somewhat approve 9.707106297077144e-05\n",
      "Strongly disapprove 1.2242331087527671e-05\n",
      "Somewhat disapprove 7.916258069004623e-07\n",
      "Not sure 0.9979983110567608\n"
     ]
    }
   ],
   "source": [
    "for survey_question_id, survey_question_row in survey_questions_df.iterrows():\n",
    "    results = profiles_df.copy(deep=True)\n",
    "    results[\"survey_question_results\"] = profiles_df.apply(\n",
    "        lambda profile: get_survey_question_results(profile, survey_question_row), axis=1\n",
    "    )\n",
    "    results.to_csv(pathlib.Path(f\"../data/{survey_question_id}\"))\n",
    "    break"
   ],
   "metadata": {
    "collapsed": false,
    "ExecuteTime": {
     "end_time": "2024-01-06T22:19:58.150107Z",
     "start_time": "2024-01-06T22:19:46.129146100Z"
    }
   },
   "id": "c664ce74",
   "execution_count": 19
  }
 ],
 "metadata": {
  "kernelspec": {
   "display_name": "humansimEnv",
   "language": "python",
   "name": "python3"
  },
  "language_info": {
   "codemirror_mode": {
    "name": "ipython",
    "version": 3
   },
   "file_extension": ".py",
   "mimetype": "text/x-python",
   "name": "python",
   "nbconvert_exporter": "python",
   "pygments_lexer": "ipython3",
   "version": "3.11.0"
  },
  "varInspector": {
   "cols": {
    "lenName": 16,
    "lenType": 16,
    "lenVar": 40
   },
   "kernels_config": {
    "python": {
     "delete_cmd_postfix": "",
     "delete_cmd_prefix": "del ",
     "library": "var_list.py",
     "varRefreshCmd": "print(var_dic_list())"
    },
    "r": {
     "delete_cmd_postfix": ") ",
     "delete_cmd_prefix": "rm(",
     "library": "var_list.r",
     "varRefreshCmd": "cat(var_dic_list()) "
    }
   },
   "types_to_exclude": [
    "module",
    "function",
    "builtin_function_or_method",
    "instance",
    "_Feature"
   ],
   "window_display": false
  },
  "vscode": {
   "interpreter": {
    "hash": "72437852b051de55129abfb7a06501fe409050f4d0b3417ddac5ce24714bfbee"
   }
  }
 },
 "nbformat": 4,
 "nbformat_minor": 5
}
